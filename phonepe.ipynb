{
 "cells": [
  {
   "cell_type": "code",
   "execution_count": null,
   "metadata": {},
   "outputs": [],
   "source": [
    "# GitHub Repository Cloning\n",
    "from git.repo.base import Repo\n",
    "repo_url = r\"https://github.com/PhonePe/pulse.git\"\n",
    "local_path = r\"C:\\Users\\Balaji\\phonepe_project\"\n",
    "Repo.clone_from(repo_url,local_path)"
   ]
  },
  {
   "cell_type": "code",
   "execution_count": 2,
   "metadata": {},
   "outputs": [
    {
     "data": {
      "text/plain": [
       "['DirEntry',\n",
       " 'EX_OK',\n",
       " 'F_OK',\n",
       " 'GenericAlias',\n",
       " 'Mapping',\n",
       " 'MutableMapping',\n",
       " 'O_APPEND',\n",
       " 'O_BINARY',\n",
       " 'O_CREAT',\n",
       " 'O_EXCL',\n",
       " 'O_NOINHERIT',\n",
       " 'O_RANDOM',\n",
       " 'O_RDONLY',\n",
       " 'O_RDWR',\n",
       " 'O_SEQUENTIAL',\n",
       " 'O_SHORT_LIVED',\n",
       " 'O_TEMPORARY',\n",
       " 'O_TEXT',\n",
       " 'O_TRUNC',\n",
       " 'O_WRONLY',\n",
       " 'P_DETACH',\n",
       " 'P_NOWAIT',\n",
       " 'P_NOWAITO',\n",
       " 'P_OVERLAY',\n",
       " 'P_WAIT',\n",
       " 'PathLike',\n",
       " 'R_OK',\n",
       " 'SEEK_CUR',\n",
       " 'SEEK_END',\n",
       " 'SEEK_SET',\n",
       " 'TMP_MAX',\n",
       " 'W_OK',\n",
       " 'X_OK',\n",
       " '_AddedDllDirectory',\n",
       " '_Environ',\n",
       " '__all__',\n",
       " '__builtins__',\n",
       " '__doc__',\n",
       " '__file__',\n",
       " '__loader__',\n",
       " '__name__',\n",
       " '__package__',\n",
       " '__spec__',\n",
       " '_check_methods',\n",
       " '_execvpe',\n",
       " '_exists',\n",
       " '_exit',\n",
       " '_fspath',\n",
       " '_get_exports_list',\n",
       " '_wrap_close',\n",
       " 'abc',\n",
       " 'abort',\n",
       " 'access',\n",
       " 'add_dll_directory',\n",
       " 'altsep',\n",
       " 'chdir',\n",
       " 'chmod',\n",
       " 'close',\n",
       " 'closerange',\n",
       " 'cpu_count',\n",
       " 'curdir',\n",
       " 'defpath',\n",
       " 'device_encoding',\n",
       " 'devnull',\n",
       " 'dup',\n",
       " 'dup2',\n",
       " 'environ',\n",
       " 'error',\n",
       " 'execl',\n",
       " 'execle',\n",
       " 'execlp',\n",
       " 'execlpe',\n",
       " 'execv',\n",
       " 'execve',\n",
       " 'execvp',\n",
       " 'execvpe',\n",
       " 'extsep',\n",
       " 'fdopen',\n",
       " 'fsdecode',\n",
       " 'fsencode',\n",
       " 'fspath',\n",
       " 'fstat',\n",
       " 'fsync',\n",
       " 'ftruncate',\n",
       " 'get_blocking',\n",
       " 'get_exec_path',\n",
       " 'get_handle_inheritable',\n",
       " 'get_inheritable',\n",
       " 'get_terminal_size',\n",
       " 'getcwd',\n",
       " 'getcwdb',\n",
       " 'getenv',\n",
       " 'getlogin',\n",
       " 'getpid',\n",
       " 'getppid',\n",
       " 'isatty',\n",
       " 'kill',\n",
       " 'linesep',\n",
       " 'link',\n",
       " 'listdir',\n",
       " 'listdrives',\n",
       " 'listmounts',\n",
       " 'listvolumes',\n",
       " 'lseek',\n",
       " 'lstat',\n",
       " 'makedirs',\n",
       " 'mkdir',\n",
       " 'name',\n",
       " 'open',\n",
       " 'pardir',\n",
       " 'path',\n",
       " 'pathsep',\n",
       " 'pipe',\n",
       " 'popen',\n",
       " 'putenv',\n",
       " 'read',\n",
       " 'readlink',\n",
       " 'remove',\n",
       " 'removedirs',\n",
       " 'rename',\n",
       " 'renames',\n",
       " 'replace',\n",
       " 'rmdir',\n",
       " 'scandir',\n",
       " 'sep',\n",
       " 'set_blocking',\n",
       " 'set_handle_inheritable',\n",
       " 'set_inheritable',\n",
       " 'spawnl',\n",
       " 'spawnle',\n",
       " 'spawnv',\n",
       " 'spawnve',\n",
       " 'st',\n",
       " 'startfile',\n",
       " 'stat',\n",
       " 'stat_result',\n",
       " 'statvfs_result',\n",
       " 'strerror',\n",
       " 'supports_bytes_environ',\n",
       " 'supports_dir_fd',\n",
       " 'supports_effective_ids',\n",
       " 'supports_fd',\n",
       " 'supports_follow_symlinks',\n",
       " 'symlink',\n",
       " 'sys',\n",
       " 'system',\n",
       " 'terminal_size',\n",
       " 'times',\n",
       " 'times_result',\n",
       " 'truncate',\n",
       " 'umask',\n",
       " 'uname_result',\n",
       " 'unlink',\n",
       " 'unsetenv',\n",
       " 'urandom',\n",
       " 'utime',\n",
       " 'waitpid',\n",
       " 'waitstatus_to_exitcode',\n",
       " 'walk',\n",
       " 'write']"
      ]
     },
     "execution_count": 2,
     "metadata": {},
     "output_type": "execute_result"
    }
   ],
   "source": [
    "import os\n",
    "import pandas as pd\n",
    "dir(os)"
   ]
  },
  {
   "cell_type": "code",
   "execution_count": 75,
   "metadata": {},
   "outputs": [],
   "source": [
    "# Aggeregated Transaction Data\n",
    "import os\n",
    "import pandas as pd\n",
    "import json\n",
    "\n",
    "def get_Agg_Tran(): \n",
    "    ar_t_p = \"C:/Users/Balaji/phonepe_project/data/aggregated/transaction/country/india/state/\"\n",
    "    ag_li_1 = os.listdir(ar_t_p)\n",
    "    dict_1 = {'State':[], 'Year':[], 'Quater':[], 'Transaction_Type':[], 'Transacion_Count':[], 'Transaction_Amount':[]}\n",
    "\n",
    "    for state in ag_li_1:#-->State\n",
    "        c_s = ar_t_p + state + \"/\"\n",
    "        ag_y = os.listdir(c_s)\n",
    "\n",
    "        for year in ag_y:#-->Year\n",
    "            c_y = c_s + year + \"/\"\n",
    "            li1 = os.listdir(c_y)\n",
    "            \n",
    "            for quarter in li1:#-->Quater\n",
    "                f = c_y + quarter\n",
    "                with open(f, \"r\") as d:#-->Reading Quater Files in read mode\n",
    "                    dict1_conv = json.load(d)#-->Dictionary Conversion\n",
    "                    \n",
    "                for j in dict1_conv['data']['transactionData']:#-->Transaction Data\n",
    "                    name = j['name']\n",
    "                    count = j['paymentInstruments'][0]['count']\n",
    "                    amount = j['paymentInstruments'][0]['amount']\n",
    "                    dict_1['Transaction_Type'].append(name)\n",
    "                    dict_1['Transacion_Count'].append(count)\n",
    "                    dict_1['Transaction_Amount'].append(amount)\n",
    "                    dict_1['State'].append(state)\n",
    "                    dict_1['Year'].append(year)\n",
    "                    dict_1['Quater'].append(int(quarter.strip('.json')))#-->From the Quarter file removing the .json and converting it to integer\n",
    "    return dict_1\n",
    "\n",
    "Ag_T_df = pd.DataFrame(get_Agg_Tran())"
   ]
  },
  {
   "cell_type": "code",
   "execution_count": 76,
   "metadata": {},
   "outputs": [],
   "source": [
    "#Aggregated User Data:\n",
    "\n",
    "def get_Agg_User():\n",
    "    ar_u_p = \"C:\\\\Users\\\\Balaji\\\\phonepe_project\\\\data\\\\aggregated\\\\user\\\\country\\\\india\\\\state\\\\\"\n",
    "    ag_li_2 = os.listdir(ar_u_p)\n",
    "    dict_2 = {'State':[],'Year':[],'Quarter':[],'Brand':[],'Count':[],'Percentage':[]}\n",
    "    \n",
    "    for state in ag_li_2:  # --> State\n",
    "        st = ar_u_p + state + \"\\\\\"\n",
    "        ag_u_y_1 = os.listdir(st)\n",
    "        \n",
    "        for year in ag_u_y_1:  # --> Year\n",
    "            c_u_y = st + year + \"\\\\\"\n",
    "            li2 = os.listdir(c_u_y)\n",
    "            \n",
    "            for Quarter in li2:  # --> Quarter\n",
    "                f2 = c_u_y + Quarter\n",
    "                \n",
    "                try:  # --> Adding the Exception Handling Part\n",
    "                    with open(f2, \"r\") as d_1:  # --> Reading the Quarter Files in read mode\n",
    "                        dict2_conv = json.load(d_1)  # --> Dictionary Conversion\n",
    "                        \n",
    "                        for i in dict2_conv[\"data\"][\"usersByDevice\"]:\n",
    "                            B_name = i['brand']\n",
    "                            Count = i[\"count\"]\n",
    "                            Percentage = i[\"percentage\"]\n",
    "                            dict_2['Brand'].append(B_name)\n",
    "                            dict_2['Count'].append(Count)\n",
    "                            dict_2['Percentage'].append(Percentage)\n",
    "                            dict_2['State'].append(state)\n",
    "                            dict_2['Year'].append(year)\n",
    "                            dict_2['Quarter'].append(int(Quarter.strip('.json')))\n",
    "                \n",
    "                except:\n",
    "                    pass  # --> Bypassing the empty Quarter files or unstructured data which doesn't come under try block\n",
    "            # TypeError: 'NoneType' object is not iterable\n",
    "    \n",
    "    return dict_2\n",
    "Ag_U_df = pd.DataFrame(get_Agg_User())"
   ]
  },
  {
   "cell_type": "code",
   "execution_count": 77,
   "metadata": {},
   "outputs": [],
   "source": [
    "# Map Transactions\n",
    "def get_Map_Tran():\n",
    "    mp_tr_p = \"C:\\\\Users\\\\Balaji\\\\phonepe_project\\\\data\\\\map\\\\transaction\\\\hover\\\\country\\\\india\\\\state\\\\\"\n",
    "    mp_li_1 = os.listdir(mp_tr_p)\n",
    "    map_dict1 = {'State':[],'Year':[],'Quarter':[],'District_Name':[],'Transaction_Count':[],'Transaction_Amount':[]}\n",
    "    \n",
    "    for state in mp_li_1:#-->State\n",
    "        c_m_s = mp_tr_p+state+\"\\\\\"\n",
    "        m_y = os.listdir(c_m_s)\n",
    "        \n",
    "        for year in m_y:#-->Year\n",
    "            c_m_y = c_m_s+year+\"\\\\\"\n",
    "            li3 = os.listdir(c_m_y)\n",
    "            \n",
    "            for Quarter in li3:#-->Quarter\n",
    "                mp_1 = c_m_y+Quarter\n",
    "                \n",
    "                try:\n",
    "                    with open(mp_1,\"r\") as d2:#-->Reading the Quarter Files in read mode\n",
    "                        map_dict1_conv = json.load(d2)\n",
    "                        \n",
    "                        for i in map_dict1_conv[\"data\"][\"hoverDataList\"]:\n",
    "                            D_Name = i[\"name\"]\n",
    "                            Cnt = i[\"metric\"][0][\"count\"]\n",
    "                            amt = i[\"metric\"][0][\"amount\"]\n",
    "                            map_dict1['District_Name'].append(D_Name)\n",
    "                            map_dict1['Transaction_Count'].append(Cnt)\n",
    "                            map_dict1['Transaction_Amount'].append(amt)\n",
    "                            map_dict1['State'].append(state)\n",
    "                            map_dict1['Year'].append(year)\n",
    "                            map_dict1['Quarter'].append(int(Quarter.strip('.json')))\n",
    "                except:\n",
    "                    pass #Bypassing the empty Quatar files or the unstructured data which doesn't comes under try block \n",
    "\n",
    "    return map_dict1\n",
    "mp_T_df = pd.DataFrame(get_Map_Tran())"
   ]
  },
  {
   "cell_type": "code",
   "execution_count": 78,
   "metadata": {},
   "outputs": [],
   "source": [
    "# Map User:\n",
    "def get_Map_User():\n",
    "    mp_u_p = \"C:\\\\Users\\\\Balaji\\\\phonepe_project\\\\data\\\\map\\\\user\\\\hover\\\\country\\\\india\\\\state\\\\\"\n",
    "    mp_li_2 = os.listdir(mp_u_p)\n",
    "    mp_dict2 = {'State':[],'Year':[],'Quarter':[],'District_Name':[],'Registered_Users':[],'App_Opens':[]}\n",
    "    \n",
    "    for state in mp_li_2:#-->State\n",
    "        c_m_s = mp_u_p+state+\"\\\\\"\n",
    "        m_y = os.listdir(c_m_s)\n",
    "        \n",
    "        for year in m_y:#-->Year\n",
    "            c_m_y = c_m_s+year+\"\\\\\"\n",
    "            li3 = os.listdir(c_m_y)\n",
    "            \n",
    "            for Quarter in li3:#-->Quarter\n",
    "                mp_1 = c_m_y+Quarter\n",
    "                \n",
    "                try:\n",
    "                    with open(mp_1,\"r\") as d3:#-->opening the file in read mode\n",
    "                        map_dict1_conv = json.load(d3) #--> Conversion to Dictonary\n",
    "                        # Example:\n",
    "                        # dict1 = {'A': {'B': {'C': {'D': 100, 'E': 50}}}}\n",
    "                        # for i, j in dict1.items():\n",
    "                        #     print(i)#-->A\n",
    "                        #     print(j['B'])#-->{'B': {'C': {'D': 100, 'E': 50}}\n",
    "                        #     print(j['B']['C'])#-->{'D': 100, 'E': 50}\n",
    "                        #     print(j['B']['C']['E'])#-->50\n",
    "                        #     print({i:j})#-->{'A': {'B': {'C': {'D': 100, 'E': 50}}}}\n",
    "                        for D_Name, i in map_dict1_conv['data']['hoverData'].items():#-->.items()-->Key Value Pair Iteration\n",
    "                            Reg_U = i['registeredUsers']\n",
    "                            App = i['appOpens']\n",
    "                            mp_dict2['District_Name'].append(D_Name)\n",
    "                            mp_dict2['Registered_Users'].append(Reg_U)\n",
    "                            mp_dict2['App_Opens'].append(App)\n",
    "                            mp_dict2['State'].append(state)\n",
    "                            mp_dict2['Year'].append(year)\n",
    "                            mp_dict2['Quarter'].append(int(Quarter.strip('.json')))\n",
    "                except:\n",
    "                    pass\n",
    "                    \n",
    "                                         \n",
    "    return mp_dict2\n",
    "mp_U_df = pd.DataFrame(get_Map_User())\n"
   ]
  },
  {
   "cell_type": "code",
   "execution_count": 79,
   "metadata": {},
   "outputs": [],
   "source": [
    "# Top Transaction:\n",
    "def get_Top_Tran():\n",
    "    top_T_path1 = \"C:\\\\Users\\\\Balaji\\\\phonepe_project\\\\data\\\\top\\\\transaction\\\\country\\\\india\\\\state\\\\\"\n",
    "    Tp_li_1 = os.listdir(top_T_path1)\n",
    "    Tp_dict1 = {'State':[],'Year':[],'Quarter':[],'Pincode':[],'Transaction_Count':[],'Transaction_Amount':[]}\n",
    "    for state in Tp_li_1:#-->State\n",
    "            c_m_s = top_T_path1+state+\"\\\\\"\n",
    "            T_y = os.listdir(c_m_s)\n",
    "            \n",
    "            for year in T_y:#-->Year\n",
    "                c_m_y = c_m_s+year+\"\\\\\"\n",
    "                li4 = os.listdir(c_m_y)\n",
    "                \n",
    "                for Quarter in li4:#-->Quarter\n",
    "                    tp_1 = c_m_y+Quarter\n",
    "                    try:\n",
    "                        with open(tp_1,\"r\") as d4:\n",
    "                            Tp_dict_conv = json.load(d4)\n",
    "                            \n",
    "                            for j in Tp_dict_conv['data']['pincodes']:\n",
    "                                pin = j['entityName']\n",
    "                                cnt = j['metric']['count']\n",
    "                                amt = j['metric']['amount']\n",
    "                                Tp_dict1['Pincode'].append(pin)\n",
    "                                Tp_dict1['Transaction_Count'].append(cnt)\n",
    "                                Tp_dict1['Transaction_Amount'].append(amt)\n",
    "                                Tp_dict1['State'].append(state)\n",
    "                                Tp_dict1['Year'].append(year)\n",
    "                                Tp_dict1['Quarter'].append(int(Quarter.strip('.json')))\n",
    "                    except:\n",
    "                        pass\n",
    "                          \n",
    "    return Tp_dict1\n",
    "Top_Tran_df = pd.DataFrame(get_Top_Tran())\n"
   ]
  },
  {
   "cell_type": "code",
   "execution_count": 80,
   "metadata": {},
   "outputs": [],
   "source": [
    "#Top User:\n",
    "def get_Top_User():\n",
    "    Tp_U_Path = \"C:\\\\Users\\\\Balaji\\\\phonepe_project\\\\data\\\\top\\\\user\\\\country\\\\india\\\\state\\\\\"\n",
    "    Tp_li_2 = os.listdir(Tp_U_Path)\n",
    "    Tp_dict2 = {'State':[],'Year':[],'Quarter':[],'Pincode':[],'Registered_Users':[]}\n",
    "    for state in Tp_li_2:#-->State\n",
    "        c_m_s = Tp_U_Path+state+\"\\\\\"\n",
    "        T_y = os.listdir(c_m_s)\n",
    "        \n",
    "        for year in T_y:#-->Year\n",
    "            c_m_y = c_m_s+year+\"\\\\\"\n",
    "            li4 = os.listdir(c_m_y)\n",
    "            \n",
    "            for Quarter in li4:#-->Quarter\n",
    "                tp_1 = c_m_y+Quarter\n",
    "                \n",
    "                with open(tp_1,\"r\") as d5:\n",
    "                    Tp_user_conv = json.load(d5)\n",
    "                    for i in Tp_user_conv['data']['pincodes']:\n",
    "                        pin = i['name']\n",
    "                        Reg_U = i['registeredUsers']\n",
    "                        Tp_dict2['Pincode'].append(pin)\n",
    "                        Tp_dict2['Registered_Users'].append(Reg_U)\n",
    "                        Tp_dict2['State'].append(state)\n",
    "                        Tp_dict2['Year'].append(year)\n",
    "                        Tp_dict2['Quarter'].append(int(Quarter.strip('.json')))\n",
    "    return Tp_dict2\n",
    "Top_U_df = pd.DataFrame(get_Top_User()) "
   ]
  },
  {
   "cell_type": "code",
   "execution_count": 81,
   "metadata": {},
   "outputs": [
    {
     "data": {
      "text/html": [
       "<div>\n",
       "<style scoped>\n",
       "    .dataframe tbody tr th:only-of-type {\n",
       "        vertical-align: middle;\n",
       "    }\n",
       "\n",
       "    .dataframe tbody tr th {\n",
       "        vertical-align: top;\n",
       "    }\n",
       "\n",
       "    .dataframe thead th {\n",
       "        text-align: right;\n",
       "    }\n",
       "</style>\n",
       "<table border=\"1\" class=\"dataframe\">\n",
       "  <thead>\n",
       "    <tr style=\"text-align: right;\">\n",
       "      <th></th>\n",
       "      <th>State</th>\n",
       "      <th>Year</th>\n",
       "      <th>Quater</th>\n",
       "      <th>Transaction_Type</th>\n",
       "      <th>Transacion_Count</th>\n",
       "      <th>Transaction_Amount</th>\n",
       "    </tr>\n",
       "  </thead>\n",
       "  <tbody>\n",
       "    <tr>\n",
       "      <th>0</th>\n",
       "      <td>andaman-&amp;-nicobar-islands</td>\n",
       "      <td>2018</td>\n",
       "      <td>1</td>\n",
       "      <td>Recharge &amp; bill payments</td>\n",
       "      <td>4200</td>\n",
       "      <td>1.845307e+06</td>\n",
       "    </tr>\n",
       "    <tr>\n",
       "      <th>1</th>\n",
       "      <td>andaman-&amp;-nicobar-islands</td>\n",
       "      <td>2018</td>\n",
       "      <td>1</td>\n",
       "      <td>Peer-to-peer payments</td>\n",
       "      <td>1871</td>\n",
       "      <td>1.213866e+07</td>\n",
       "    </tr>\n",
       "    <tr>\n",
       "      <th>2</th>\n",
       "      <td>andaman-&amp;-nicobar-islands</td>\n",
       "      <td>2018</td>\n",
       "      <td>1</td>\n",
       "      <td>Merchant payments</td>\n",
       "      <td>298</td>\n",
       "      <td>4.525072e+05</td>\n",
       "    </tr>\n",
       "    <tr>\n",
       "      <th>3</th>\n",
       "      <td>andaman-&amp;-nicobar-islands</td>\n",
       "      <td>2018</td>\n",
       "      <td>1</td>\n",
       "      <td>Financial Services</td>\n",
       "      <td>33</td>\n",
       "      <td>1.060142e+04</td>\n",
       "    </tr>\n",
       "    <tr>\n",
       "      <th>4</th>\n",
       "      <td>andaman-&amp;-nicobar-islands</td>\n",
       "      <td>2018</td>\n",
       "      <td>1</td>\n",
       "      <td>Others</td>\n",
       "      <td>256</td>\n",
       "      <td>1.846899e+05</td>\n",
       "    </tr>\n",
       "    <tr>\n",
       "      <th>...</th>\n",
       "      <td>...</td>\n",
       "      <td>...</td>\n",
       "      <td>...</td>\n",
       "      <td>...</td>\n",
       "      <td>...</td>\n",
       "      <td>...</td>\n",
       "    </tr>\n",
       "    <tr>\n",
       "      <th>4309</th>\n",
       "      <td>west-bengal</td>\n",
       "      <td>2023</td>\n",
       "      <td>4</td>\n",
       "      <td>Merchant payments</td>\n",
       "      <td>354067997</td>\n",
       "      <td>2.390738e+11</td>\n",
       "    </tr>\n",
       "    <tr>\n",
       "      <th>4310</th>\n",
       "      <td>west-bengal</td>\n",
       "      <td>2023</td>\n",
       "      <td>4</td>\n",
       "      <td>Peer-to-peer payments</td>\n",
       "      <td>317959249</td>\n",
       "      <td>9.641385e+11</td>\n",
       "    </tr>\n",
       "    <tr>\n",
       "      <th>4311</th>\n",
       "      <td>west-bengal</td>\n",
       "      <td>2023</td>\n",
       "      <td>4</td>\n",
       "      <td>Recharge &amp; bill payments</td>\n",
       "      <td>64920775</td>\n",
       "      <td>4.531943e+10</td>\n",
       "    </tr>\n",
       "    <tr>\n",
       "      <th>4312</th>\n",
       "      <td>west-bengal</td>\n",
       "      <td>2023</td>\n",
       "      <td>4</td>\n",
       "      <td>Financial Services</td>\n",
       "      <td>480740</td>\n",
       "      <td>4.590073e+08</td>\n",
       "    </tr>\n",
       "    <tr>\n",
       "      <th>4313</th>\n",
       "      <td>west-bengal</td>\n",
       "      <td>2023</td>\n",
       "      <td>4</td>\n",
       "      <td>Others</td>\n",
       "      <td>524477</td>\n",
       "      <td>4.041567e+08</td>\n",
       "    </tr>\n",
       "  </tbody>\n",
       "</table>\n",
       "<p>4314 rows × 6 columns</p>\n",
       "</div>"
      ],
      "text/plain": [
       "                          State  Year  Quater          Transaction_Type  \\\n",
       "0     andaman-&-nicobar-islands  2018       1  Recharge & bill payments   \n",
       "1     andaman-&-nicobar-islands  2018       1     Peer-to-peer payments   \n",
       "2     andaman-&-nicobar-islands  2018       1         Merchant payments   \n",
       "3     andaman-&-nicobar-islands  2018       1        Financial Services   \n",
       "4     andaman-&-nicobar-islands  2018       1                    Others   \n",
       "...                         ...   ...     ...                       ...   \n",
       "4309                west-bengal  2023       4         Merchant payments   \n",
       "4310                west-bengal  2023       4     Peer-to-peer payments   \n",
       "4311                west-bengal  2023       4  Recharge & bill payments   \n",
       "4312                west-bengal  2023       4        Financial Services   \n",
       "4313                west-bengal  2023       4                    Others   \n",
       "\n",
       "      Transacion_Count  Transaction_Amount  \n",
       "0                 4200        1.845307e+06  \n",
       "1                 1871        1.213866e+07  \n",
       "2                  298        4.525072e+05  \n",
       "3                   33        1.060142e+04  \n",
       "4                  256        1.846899e+05  \n",
       "...                ...                 ...  \n",
       "4309         354067997        2.390738e+11  \n",
       "4310         317959249        9.641385e+11  \n",
       "4311          64920775        4.531943e+10  \n",
       "4312            480740        4.590073e+08  \n",
       "4313            524477        4.041567e+08  \n",
       "\n",
       "[4314 rows x 6 columns]"
      ]
     },
     "execution_count": 81,
     "metadata": {},
     "output_type": "execute_result"
    }
   ],
   "source": [
    "Ag_T_df"
   ]
  },
  {
   "cell_type": "code",
   "execution_count": 82,
   "metadata": {},
   "outputs": [
    {
     "data": {
      "text/html": [
       "<div>\n",
       "<style scoped>\n",
       "    .dataframe tbody tr th:only-of-type {\n",
       "        vertical-align: middle;\n",
       "    }\n",
       "\n",
       "    .dataframe tbody tr th {\n",
       "        vertical-align: top;\n",
       "    }\n",
       "\n",
       "    .dataframe thead th {\n",
       "        text-align: right;\n",
       "    }\n",
       "</style>\n",
       "<table border=\"1\" class=\"dataframe\">\n",
       "  <thead>\n",
       "    <tr style=\"text-align: right;\">\n",
       "      <th></th>\n",
       "      <th>State</th>\n",
       "      <th>Year</th>\n",
       "      <th>Quarter</th>\n",
       "      <th>Brand</th>\n",
       "      <th>Count</th>\n",
       "      <th>Percentage</th>\n",
       "    </tr>\n",
       "  </thead>\n",
       "  <tbody>\n",
       "    <tr>\n",
       "      <th>0</th>\n",
       "      <td>andaman-&amp;-nicobar-islands</td>\n",
       "      <td>2018</td>\n",
       "      <td>1</td>\n",
       "      <td>Xiaomi</td>\n",
       "      <td>1665</td>\n",
       "      <td>0.247033</td>\n",
       "    </tr>\n",
       "    <tr>\n",
       "      <th>1</th>\n",
       "      <td>andaman-&amp;-nicobar-islands</td>\n",
       "      <td>2018</td>\n",
       "      <td>1</td>\n",
       "      <td>Samsung</td>\n",
       "      <td>1445</td>\n",
       "      <td>0.214392</td>\n",
       "    </tr>\n",
       "    <tr>\n",
       "      <th>2</th>\n",
       "      <td>andaman-&amp;-nicobar-islands</td>\n",
       "      <td>2018</td>\n",
       "      <td>1</td>\n",
       "      <td>Vivo</td>\n",
       "      <td>982</td>\n",
       "      <td>0.145697</td>\n",
       "    </tr>\n",
       "    <tr>\n",
       "      <th>3</th>\n",
       "      <td>andaman-&amp;-nicobar-islands</td>\n",
       "      <td>2018</td>\n",
       "      <td>1</td>\n",
       "      <td>Oppo</td>\n",
       "      <td>501</td>\n",
       "      <td>0.074332</td>\n",
       "    </tr>\n",
       "    <tr>\n",
       "      <th>4</th>\n",
       "      <td>andaman-&amp;-nicobar-islands</td>\n",
       "      <td>2018</td>\n",
       "      <td>1</td>\n",
       "      <td>OnePlus</td>\n",
       "      <td>332</td>\n",
       "      <td>0.049258</td>\n",
       "    </tr>\n",
       "    <tr>\n",
       "      <th>...</th>\n",
       "      <td>...</td>\n",
       "      <td>...</td>\n",
       "      <td>...</td>\n",
       "      <td>...</td>\n",
       "      <td>...</td>\n",
       "      <td>...</td>\n",
       "    </tr>\n",
       "    <tr>\n",
       "      <th>6727</th>\n",
       "      <td>west-bengal</td>\n",
       "      <td>2022</td>\n",
       "      <td>1</td>\n",
       "      <td>Lenovo</td>\n",
       "      <td>330017</td>\n",
       "      <td>0.015056</td>\n",
       "    </tr>\n",
       "    <tr>\n",
       "      <th>6728</th>\n",
       "      <td>west-bengal</td>\n",
       "      <td>2022</td>\n",
       "      <td>1</td>\n",
       "      <td>Infinix</td>\n",
       "      <td>284678</td>\n",
       "      <td>0.012987</td>\n",
       "    </tr>\n",
       "    <tr>\n",
       "      <th>6729</th>\n",
       "      <td>west-bengal</td>\n",
       "      <td>2022</td>\n",
       "      <td>1</td>\n",
       "      <td>Asus</td>\n",
       "      <td>280347</td>\n",
       "      <td>0.012790</td>\n",
       "    </tr>\n",
       "    <tr>\n",
       "      <th>6730</th>\n",
       "      <td>west-bengal</td>\n",
       "      <td>2022</td>\n",
       "      <td>1</td>\n",
       "      <td>Apple</td>\n",
       "      <td>277752</td>\n",
       "      <td>0.012671</td>\n",
       "    </tr>\n",
       "    <tr>\n",
       "      <th>6731</th>\n",
       "      <td>west-bengal</td>\n",
       "      <td>2022</td>\n",
       "      <td>1</td>\n",
       "      <td>Others</td>\n",
       "      <td>2196334</td>\n",
       "      <td>0.100199</td>\n",
       "    </tr>\n",
       "  </tbody>\n",
       "</table>\n",
       "<p>6732 rows × 6 columns</p>\n",
       "</div>"
      ],
      "text/plain": [
       "                          State  Year  Quarter    Brand    Count  Percentage\n",
       "0     andaman-&-nicobar-islands  2018        1   Xiaomi     1665    0.247033\n",
       "1     andaman-&-nicobar-islands  2018        1  Samsung     1445    0.214392\n",
       "2     andaman-&-nicobar-islands  2018        1     Vivo      982    0.145697\n",
       "3     andaman-&-nicobar-islands  2018        1     Oppo      501    0.074332\n",
       "4     andaman-&-nicobar-islands  2018        1  OnePlus      332    0.049258\n",
       "...                         ...   ...      ...      ...      ...         ...\n",
       "6727                west-bengal  2022        1   Lenovo   330017    0.015056\n",
       "6728                west-bengal  2022        1  Infinix   284678    0.012987\n",
       "6729                west-bengal  2022        1     Asus   280347    0.012790\n",
       "6730                west-bengal  2022        1    Apple   277752    0.012671\n",
       "6731                west-bengal  2022        1   Others  2196334    0.100199\n",
       "\n",
       "[6732 rows x 6 columns]"
      ]
     },
     "execution_count": 82,
     "metadata": {},
     "output_type": "execute_result"
    }
   ],
   "source": [
    "Ag_U_df"
   ]
  },
  {
   "cell_type": "code",
   "execution_count": 83,
   "metadata": {},
   "outputs": [
    {
     "data": {
      "text/html": [
       "<div>\n",
       "<style scoped>\n",
       "    .dataframe tbody tr th:only-of-type {\n",
       "        vertical-align: middle;\n",
       "    }\n",
       "\n",
       "    .dataframe tbody tr th {\n",
       "        vertical-align: top;\n",
       "    }\n",
       "\n",
       "    .dataframe thead th {\n",
       "        text-align: right;\n",
       "    }\n",
       "</style>\n",
       "<table border=\"1\" class=\"dataframe\">\n",
       "  <thead>\n",
       "    <tr style=\"text-align: right;\">\n",
       "      <th></th>\n",
       "      <th>State</th>\n",
       "      <th>Year</th>\n",
       "      <th>Quarter</th>\n",
       "      <th>District_Name</th>\n",
       "      <th>Transaction_Count</th>\n",
       "      <th>Transaction_Amount</th>\n",
       "    </tr>\n",
       "  </thead>\n",
       "  <tbody>\n",
       "    <tr>\n",
       "      <th>0</th>\n",
       "      <td>andaman-&amp;-nicobar-islands</td>\n",
       "      <td>2018</td>\n",
       "      <td>1</td>\n",
       "      <td>north and middle andaman district</td>\n",
       "      <td>442</td>\n",
       "      <td>9.316631e+05</td>\n",
       "    </tr>\n",
       "    <tr>\n",
       "      <th>1</th>\n",
       "      <td>andaman-&amp;-nicobar-islands</td>\n",
       "      <td>2018</td>\n",
       "      <td>1</td>\n",
       "      <td>south andaman district</td>\n",
       "      <td>5688</td>\n",
       "      <td>1.256025e+07</td>\n",
       "    </tr>\n",
       "    <tr>\n",
       "      <th>2</th>\n",
       "      <td>andaman-&amp;-nicobar-islands</td>\n",
       "      <td>2018</td>\n",
       "      <td>1</td>\n",
       "      <td>nicobars district</td>\n",
       "      <td>528</td>\n",
       "      <td>1.139849e+06</td>\n",
       "    </tr>\n",
       "    <tr>\n",
       "      <th>3</th>\n",
       "      <td>andaman-&amp;-nicobar-islands</td>\n",
       "      <td>2018</td>\n",
       "      <td>2</td>\n",
       "      <td>north and middle andaman district</td>\n",
       "      <td>825</td>\n",
       "      <td>1.317863e+06</td>\n",
       "    </tr>\n",
       "    <tr>\n",
       "      <th>4</th>\n",
       "      <td>andaman-&amp;-nicobar-islands</td>\n",
       "      <td>2018</td>\n",
       "      <td>2</td>\n",
       "      <td>south andaman district</td>\n",
       "      <td>9395</td>\n",
       "      <td>2.394824e+07</td>\n",
       "    </tr>\n",
       "    <tr>\n",
       "      <th>...</th>\n",
       "      <td>...</td>\n",
       "      <td>...</td>\n",
       "      <td>...</td>\n",
       "      <td>...</td>\n",
       "      <td>...</td>\n",
       "      <td>...</td>\n",
       "    </tr>\n",
       "    <tr>\n",
       "      <th>17559</th>\n",
       "      <td>west-bengal</td>\n",
       "      <td>2023</td>\n",
       "      <td>4</td>\n",
       "      <td>nadia district</td>\n",
       "      <td>36242432</td>\n",
       "      <td>6.879568e+10</td>\n",
       "    </tr>\n",
       "    <tr>\n",
       "      <th>17560</th>\n",
       "      <td>west-bengal</td>\n",
       "      <td>2023</td>\n",
       "      <td>4</td>\n",
       "      <td>birbhum district</td>\n",
       "      <td>20708496</td>\n",
       "      <td>3.690499e+10</td>\n",
       "    </tr>\n",
       "    <tr>\n",
       "      <th>17561</th>\n",
       "      <td>west-bengal</td>\n",
       "      <td>2023</td>\n",
       "      <td>4</td>\n",
       "      <td>purba medinipur district</td>\n",
       "      <td>40572042</td>\n",
       "      <td>7.981990e+10</td>\n",
       "    </tr>\n",
       "    <tr>\n",
       "      <th>17562</th>\n",
       "      <td>west-bengal</td>\n",
       "      <td>2023</td>\n",
       "      <td>4</td>\n",
       "      <td>maldah district</td>\n",
       "      <td>34654950</td>\n",
       "      <td>6.416729e+10</td>\n",
       "    </tr>\n",
       "    <tr>\n",
       "      <th>17563</th>\n",
       "      <td>west-bengal</td>\n",
       "      <td>2023</td>\n",
       "      <td>4</td>\n",
       "      <td>darjiling district</td>\n",
       "      <td>16807885</td>\n",
       "      <td>2.793986e+10</td>\n",
       "    </tr>\n",
       "  </tbody>\n",
       "</table>\n",
       "<p>17564 rows × 6 columns</p>\n",
       "</div>"
      ],
      "text/plain": [
       "                           State  Year  Quarter  \\\n",
       "0      andaman-&-nicobar-islands  2018        1   \n",
       "1      andaman-&-nicobar-islands  2018        1   \n",
       "2      andaman-&-nicobar-islands  2018        1   \n",
       "3      andaman-&-nicobar-islands  2018        2   \n",
       "4      andaman-&-nicobar-islands  2018        2   \n",
       "...                          ...   ...      ...   \n",
       "17559                west-bengal  2023        4   \n",
       "17560                west-bengal  2023        4   \n",
       "17561                west-bengal  2023        4   \n",
       "17562                west-bengal  2023        4   \n",
       "17563                west-bengal  2023        4   \n",
       "\n",
       "                           District_Name  Transaction_Count  \\\n",
       "0      north and middle andaman district                442   \n",
       "1                 south andaman district               5688   \n",
       "2                      nicobars district                528   \n",
       "3      north and middle andaman district                825   \n",
       "4                 south andaman district               9395   \n",
       "...                                  ...                ...   \n",
       "17559                     nadia district           36242432   \n",
       "17560                   birbhum district           20708496   \n",
       "17561           purba medinipur district           40572042   \n",
       "17562                    maldah district           34654950   \n",
       "17563                 darjiling district           16807885   \n",
       "\n",
       "       Transaction_Amount  \n",
       "0            9.316631e+05  \n",
       "1            1.256025e+07  \n",
       "2            1.139849e+06  \n",
       "3            1.317863e+06  \n",
       "4            2.394824e+07  \n",
       "...                   ...  \n",
       "17559        6.879568e+10  \n",
       "17560        3.690499e+10  \n",
       "17561        7.981990e+10  \n",
       "17562        6.416729e+10  \n",
       "17563        2.793986e+10  \n",
       "\n",
       "[17564 rows x 6 columns]"
      ]
     },
     "execution_count": 83,
     "metadata": {},
     "output_type": "execute_result"
    }
   ],
   "source": [
    "mp_T_df"
   ]
  },
  {
   "cell_type": "code",
   "execution_count": 84,
   "metadata": {},
   "outputs": [
    {
     "data": {
      "text/html": [
       "<div>\n",
       "<style scoped>\n",
       "    .dataframe tbody tr th:only-of-type {\n",
       "        vertical-align: middle;\n",
       "    }\n",
       "\n",
       "    .dataframe tbody tr th {\n",
       "        vertical-align: top;\n",
       "    }\n",
       "\n",
       "    .dataframe thead th {\n",
       "        text-align: right;\n",
       "    }\n",
       "</style>\n",
       "<table border=\"1\" class=\"dataframe\">\n",
       "  <thead>\n",
       "    <tr style=\"text-align: right;\">\n",
       "      <th></th>\n",
       "      <th>State</th>\n",
       "      <th>Year</th>\n",
       "      <th>Quarter</th>\n",
       "      <th>District_Name</th>\n",
       "      <th>Registered_Users</th>\n",
       "      <th>App_Opens</th>\n",
       "    </tr>\n",
       "  </thead>\n",
       "  <tbody>\n",
       "    <tr>\n",
       "      <th>0</th>\n",
       "      <td>andaman-&amp;-nicobar-islands</td>\n",
       "      <td>2018</td>\n",
       "      <td>1</td>\n",
       "      <td>north and middle andaman district</td>\n",
       "      <td>632</td>\n",
       "      <td>0</td>\n",
       "    </tr>\n",
       "    <tr>\n",
       "      <th>1</th>\n",
       "      <td>andaman-&amp;-nicobar-islands</td>\n",
       "      <td>2018</td>\n",
       "      <td>1</td>\n",
       "      <td>south andaman district</td>\n",
       "      <td>5846</td>\n",
       "      <td>0</td>\n",
       "    </tr>\n",
       "    <tr>\n",
       "      <th>2</th>\n",
       "      <td>andaman-&amp;-nicobar-islands</td>\n",
       "      <td>2018</td>\n",
       "      <td>1</td>\n",
       "      <td>nicobars district</td>\n",
       "      <td>262</td>\n",
       "      <td>0</td>\n",
       "    </tr>\n",
       "    <tr>\n",
       "      <th>3</th>\n",
       "      <td>andaman-&amp;-nicobar-islands</td>\n",
       "      <td>2018</td>\n",
       "      <td>2</td>\n",
       "      <td>north and middle andaman district</td>\n",
       "      <td>911</td>\n",
       "      <td>0</td>\n",
       "    </tr>\n",
       "    <tr>\n",
       "      <th>4</th>\n",
       "      <td>andaman-&amp;-nicobar-islands</td>\n",
       "      <td>2018</td>\n",
       "      <td>2</td>\n",
       "      <td>south andaman district</td>\n",
       "      <td>8143</td>\n",
       "      <td>0</td>\n",
       "    </tr>\n",
       "    <tr>\n",
       "      <th>...</th>\n",
       "      <td>...</td>\n",
       "      <td>...</td>\n",
       "      <td>...</td>\n",
       "      <td>...</td>\n",
       "      <td>...</td>\n",
       "      <td>...</td>\n",
       "    </tr>\n",
       "    <tr>\n",
       "      <th>17563</th>\n",
       "      <td>west-bengal</td>\n",
       "      <td>2023</td>\n",
       "      <td>4</td>\n",
       "      <td>nadia district</td>\n",
       "      <td>1603527</td>\n",
       "      <td>67224546</td>\n",
       "    </tr>\n",
       "    <tr>\n",
       "      <th>17564</th>\n",
       "      <td>west-bengal</td>\n",
       "      <td>2023</td>\n",
       "      <td>4</td>\n",
       "      <td>birbhum district</td>\n",
       "      <td>1013025</td>\n",
       "      <td>52281841</td>\n",
       "    </tr>\n",
       "    <tr>\n",
       "      <th>17565</th>\n",
       "      <td>west-bengal</td>\n",
       "      <td>2023</td>\n",
       "      <td>4</td>\n",
       "      <td>purba medinipur district</td>\n",
       "      <td>1589203</td>\n",
       "      <td>69991821</td>\n",
       "    </tr>\n",
       "    <tr>\n",
       "      <th>17566</th>\n",
       "      <td>west-bengal</td>\n",
       "      <td>2023</td>\n",
       "      <td>4</td>\n",
       "      <td>maldah district</td>\n",
       "      <td>1134600</td>\n",
       "      <td>88292475</td>\n",
       "    </tr>\n",
       "    <tr>\n",
       "      <th>17567</th>\n",
       "      <td>west-bengal</td>\n",
       "      <td>2023</td>\n",
       "      <td>4</td>\n",
       "      <td>darjiling district</td>\n",
       "      <td>660231</td>\n",
       "      <td>39079247</td>\n",
       "    </tr>\n",
       "  </tbody>\n",
       "</table>\n",
       "<p>17568 rows × 6 columns</p>\n",
       "</div>"
      ],
      "text/plain": [
       "                           State  Year  Quarter  \\\n",
       "0      andaman-&-nicobar-islands  2018        1   \n",
       "1      andaman-&-nicobar-islands  2018        1   \n",
       "2      andaman-&-nicobar-islands  2018        1   \n",
       "3      andaman-&-nicobar-islands  2018        2   \n",
       "4      andaman-&-nicobar-islands  2018        2   \n",
       "...                          ...   ...      ...   \n",
       "17563                west-bengal  2023        4   \n",
       "17564                west-bengal  2023        4   \n",
       "17565                west-bengal  2023        4   \n",
       "17566                west-bengal  2023        4   \n",
       "17567                west-bengal  2023        4   \n",
       "\n",
       "                           District_Name  Registered_Users  App_Opens  \n",
       "0      north and middle andaman district               632          0  \n",
       "1                 south andaman district              5846          0  \n",
       "2                      nicobars district               262          0  \n",
       "3      north and middle andaman district               911          0  \n",
       "4                 south andaman district              8143          0  \n",
       "...                                  ...               ...        ...  \n",
       "17563                     nadia district           1603527   67224546  \n",
       "17564                   birbhum district           1013025   52281841  \n",
       "17565           purba medinipur district           1589203   69991821  \n",
       "17566                    maldah district           1134600   88292475  \n",
       "17567                 darjiling district            660231   39079247  \n",
       "\n",
       "[17568 rows x 6 columns]"
      ]
     },
     "execution_count": 84,
     "metadata": {},
     "output_type": "execute_result"
    }
   ],
   "source": [
    "mp_U_df"
   ]
  },
  {
   "cell_type": "code",
   "execution_count": 85,
   "metadata": {},
   "outputs": [
    {
     "data": {
      "text/html": [
       "<div>\n",
       "<style scoped>\n",
       "    .dataframe tbody tr th:only-of-type {\n",
       "        vertical-align: middle;\n",
       "    }\n",
       "\n",
       "    .dataframe tbody tr th {\n",
       "        vertical-align: top;\n",
       "    }\n",
       "\n",
       "    .dataframe thead th {\n",
       "        text-align: right;\n",
       "    }\n",
       "</style>\n",
       "<table border=\"1\" class=\"dataframe\">\n",
       "  <thead>\n",
       "    <tr style=\"text-align: right;\">\n",
       "      <th></th>\n",
       "      <th>State</th>\n",
       "      <th>Year</th>\n",
       "      <th>Quarter</th>\n",
       "      <th>Pincode</th>\n",
       "      <th>Transaction_Count</th>\n",
       "      <th>Transaction_Amount</th>\n",
       "    </tr>\n",
       "  </thead>\n",
       "  <tbody>\n",
       "    <tr>\n",
       "      <th>0</th>\n",
       "      <td>andaman-&amp;-nicobar-islands</td>\n",
       "      <td>2018</td>\n",
       "      <td>1</td>\n",
       "      <td>744101</td>\n",
       "      <td>1622</td>\n",
       "      <td>2.769298e+06</td>\n",
       "    </tr>\n",
       "    <tr>\n",
       "      <th>1</th>\n",
       "      <td>andaman-&amp;-nicobar-islands</td>\n",
       "      <td>2018</td>\n",
       "      <td>1</td>\n",
       "      <td>744103</td>\n",
       "      <td>1223</td>\n",
       "      <td>2.238042e+06</td>\n",
       "    </tr>\n",
       "    <tr>\n",
       "      <th>2</th>\n",
       "      <td>andaman-&amp;-nicobar-islands</td>\n",
       "      <td>2018</td>\n",
       "      <td>1</td>\n",
       "      <td>744102</td>\n",
       "      <td>969</td>\n",
       "      <td>3.519060e+06</td>\n",
       "    </tr>\n",
       "    <tr>\n",
       "      <th>3</th>\n",
       "      <td>andaman-&amp;-nicobar-islands</td>\n",
       "      <td>2018</td>\n",
       "      <td>1</td>\n",
       "      <td>744105</td>\n",
       "      <td>685</td>\n",
       "      <td>1.298561e+06</td>\n",
       "    </tr>\n",
       "    <tr>\n",
       "      <th>4</th>\n",
       "      <td>andaman-&amp;-nicobar-islands</td>\n",
       "      <td>2018</td>\n",
       "      <td>1</td>\n",
       "      <td>744104</td>\n",
       "      <td>340</td>\n",
       "      <td>1.039715e+06</td>\n",
       "    </tr>\n",
       "    <tr>\n",
       "      <th>...</th>\n",
       "      <td>...</td>\n",
       "      <td>...</td>\n",
       "      <td>...</td>\n",
       "      <td>...</td>\n",
       "      <td>...</td>\n",
       "      <td>...</td>\n",
       "    </tr>\n",
       "    <tr>\n",
       "      <th>8562</th>\n",
       "      <td>west-bengal</td>\n",
       "      <td>2023</td>\n",
       "      <td>4</td>\n",
       "      <td>721301</td>\n",
       "      <td>4133775</td>\n",
       "      <td>5.718222e+09</td>\n",
       "    </tr>\n",
       "    <tr>\n",
       "      <th>8563</th>\n",
       "      <td>west-bengal</td>\n",
       "      <td>2023</td>\n",
       "      <td>4</td>\n",
       "      <td>700001</td>\n",
       "      <td>3983241</td>\n",
       "      <td>8.039689e+09</td>\n",
       "    </tr>\n",
       "    <tr>\n",
       "      <th>8564</th>\n",
       "      <td>west-bengal</td>\n",
       "      <td>2023</td>\n",
       "      <td>4</td>\n",
       "      <td>732125</td>\n",
       "      <td>3950411</td>\n",
       "      <td>6.557345e+09</td>\n",
       "    </tr>\n",
       "    <tr>\n",
       "      <th>8565</th>\n",
       "      <td>west-bengal</td>\n",
       "      <td>2023</td>\n",
       "      <td>4</td>\n",
       "      <td>700039</td>\n",
       "      <td>3742452</td>\n",
       "      <td>5.608622e+09</td>\n",
       "    </tr>\n",
       "    <tr>\n",
       "      <th>8566</th>\n",
       "      <td>west-bengal</td>\n",
       "      <td>2023</td>\n",
       "      <td>4</td>\n",
       "      <td>700014</td>\n",
       "      <td>3652710</td>\n",
       "      <td>6.184795e+09</td>\n",
       "    </tr>\n",
       "  </tbody>\n",
       "</table>\n",
       "<p>8567 rows × 6 columns</p>\n",
       "</div>"
      ],
      "text/plain": [
       "                          State  Year  Quarter Pincode  Transaction_Count  \\\n",
       "0     andaman-&-nicobar-islands  2018        1  744101               1622   \n",
       "1     andaman-&-nicobar-islands  2018        1  744103               1223   \n",
       "2     andaman-&-nicobar-islands  2018        1  744102                969   \n",
       "3     andaman-&-nicobar-islands  2018        1  744105                685   \n",
       "4     andaman-&-nicobar-islands  2018        1  744104                340   \n",
       "...                         ...   ...      ...     ...                ...   \n",
       "8562                west-bengal  2023        4  721301            4133775   \n",
       "8563                west-bengal  2023        4  700001            3983241   \n",
       "8564                west-bengal  2023        4  732125            3950411   \n",
       "8565                west-bengal  2023        4  700039            3742452   \n",
       "8566                west-bengal  2023        4  700014            3652710   \n",
       "\n",
       "      Transaction_Amount  \n",
       "0           2.769298e+06  \n",
       "1           2.238042e+06  \n",
       "2           3.519060e+06  \n",
       "3           1.298561e+06  \n",
       "4           1.039715e+06  \n",
       "...                  ...  \n",
       "8562        5.718222e+09  \n",
       "8563        8.039689e+09  \n",
       "8564        6.557345e+09  \n",
       "8565        5.608622e+09  \n",
       "8566        6.184795e+09  \n",
       "\n",
       "[8567 rows x 6 columns]"
      ]
     },
     "execution_count": 85,
     "metadata": {},
     "output_type": "execute_result"
    }
   ],
   "source": [
    "Top_Tran_df"
   ]
  },
  {
   "cell_type": "code",
   "execution_count": 86,
   "metadata": {},
   "outputs": [
    {
     "data": {
      "text/html": [
       "<div>\n",
       "<style scoped>\n",
       "    .dataframe tbody tr th:only-of-type {\n",
       "        vertical-align: middle;\n",
       "    }\n",
       "\n",
       "    .dataframe tbody tr th {\n",
       "        vertical-align: top;\n",
       "    }\n",
       "\n",
       "    .dataframe thead th {\n",
       "        text-align: right;\n",
       "    }\n",
       "</style>\n",
       "<table border=\"1\" class=\"dataframe\">\n",
       "  <thead>\n",
       "    <tr style=\"text-align: right;\">\n",
       "      <th></th>\n",
       "      <th>State</th>\n",
       "      <th>Year</th>\n",
       "      <th>Quarter</th>\n",
       "      <th>Pincode</th>\n",
       "      <th>Registered_Users</th>\n",
       "    </tr>\n",
       "  </thead>\n",
       "  <tbody>\n",
       "    <tr>\n",
       "      <th>0</th>\n",
       "      <td>andaman-&amp;-nicobar-islands</td>\n",
       "      <td>2018</td>\n",
       "      <td>1</td>\n",
       "      <td>744103</td>\n",
       "      <td>1608</td>\n",
       "    </tr>\n",
       "    <tr>\n",
       "      <th>1</th>\n",
       "      <td>andaman-&amp;-nicobar-islands</td>\n",
       "      <td>2018</td>\n",
       "      <td>1</td>\n",
       "      <td>744101</td>\n",
       "      <td>1108</td>\n",
       "    </tr>\n",
       "    <tr>\n",
       "      <th>2</th>\n",
       "      <td>andaman-&amp;-nicobar-islands</td>\n",
       "      <td>2018</td>\n",
       "      <td>1</td>\n",
       "      <td>744105</td>\n",
       "      <td>1075</td>\n",
       "    </tr>\n",
       "    <tr>\n",
       "      <th>3</th>\n",
       "      <td>andaman-&amp;-nicobar-islands</td>\n",
       "      <td>2018</td>\n",
       "      <td>1</td>\n",
       "      <td>744102</td>\n",
       "      <td>1006</td>\n",
       "    </tr>\n",
       "    <tr>\n",
       "      <th>4</th>\n",
       "      <td>andaman-&amp;-nicobar-islands</td>\n",
       "      <td>2018</td>\n",
       "      <td>1</td>\n",
       "      <td>744104</td>\n",
       "      <td>272</td>\n",
       "    </tr>\n",
       "    <tr>\n",
       "      <th>...</th>\n",
       "      <td>...</td>\n",
       "      <td>...</td>\n",
       "      <td>...</td>\n",
       "      <td>...</td>\n",
       "      <td>...</td>\n",
       "    </tr>\n",
       "    <tr>\n",
       "      <th>8563</th>\n",
       "      <td>west-bengal</td>\n",
       "      <td>2023</td>\n",
       "      <td>4</td>\n",
       "      <td>700015</td>\n",
       "      <td>126663</td>\n",
       "    </tr>\n",
       "    <tr>\n",
       "      <th>8564</th>\n",
       "      <td>west-bengal</td>\n",
       "      <td>2023</td>\n",
       "      <td>4</td>\n",
       "      <td>742304</td>\n",
       "      <td>123320</td>\n",
       "    </tr>\n",
       "    <tr>\n",
       "      <th>8565</th>\n",
       "      <td>west-bengal</td>\n",
       "      <td>2023</td>\n",
       "      <td>4</td>\n",
       "      <td>721101</td>\n",
       "      <td>123088</td>\n",
       "    </tr>\n",
       "    <tr>\n",
       "      <th>8566</th>\n",
       "      <td>west-bengal</td>\n",
       "      <td>2023</td>\n",
       "      <td>4</td>\n",
       "      <td>700150</td>\n",
       "      <td>119283</td>\n",
       "    </tr>\n",
       "    <tr>\n",
       "      <th>8567</th>\n",
       "      <td>west-bengal</td>\n",
       "      <td>2023</td>\n",
       "      <td>4</td>\n",
       "      <td>700091</td>\n",
       "      <td>118578</td>\n",
       "    </tr>\n",
       "  </tbody>\n",
       "</table>\n",
       "<p>8568 rows × 5 columns</p>\n",
       "</div>"
      ],
      "text/plain": [
       "                          State  Year  Quarter Pincode  Registered_Users\n",
       "0     andaman-&-nicobar-islands  2018        1  744103              1608\n",
       "1     andaman-&-nicobar-islands  2018        1  744101              1108\n",
       "2     andaman-&-nicobar-islands  2018        1  744105              1075\n",
       "3     andaman-&-nicobar-islands  2018        1  744102              1006\n",
       "4     andaman-&-nicobar-islands  2018        1  744104               272\n",
       "...                         ...   ...      ...     ...               ...\n",
       "8563                west-bengal  2023        4  700015            126663\n",
       "8564                west-bengal  2023        4  742304            123320\n",
       "8565                west-bengal  2023        4  721101            123088\n",
       "8566                west-bengal  2023        4  700150            119283\n",
       "8567                west-bengal  2023        4  700091            118578\n",
       "\n",
       "[8568 rows x 5 columns]"
      ]
     },
     "execution_count": 86,
     "metadata": {},
     "output_type": "execute_result"
    }
   ],
   "source": [
    "Top_U_df"
   ]
  },
  {
   "cell_type": "code",
   "execution_count": 103,
   "metadata": {},
   "outputs": [],
   "source": [
    "# Data Cleansing:\n",
    "modification = {\n",
    "    \"andaman-&-nicobar-islands\":\"Andaman & Nicobar\",\n",
    "    \"andhra-pradesh\":\"Andhra Pradesh\",\n",
    "    \"arunachal-pradesh\":\"Arunachal Pradesh\",\n",
    "    \"assam\":\"Assam\",\n",
    "    \"bihar\":\"Bihar\",\n",
    "    \"chandigarh\":\"Chandigarh\",\n",
    "    \"chhattisgarh\":\"Chhattisgarh\",\n",
    "    \"dadra-&-nagar-haveli-&-daman-&-diu\":\"Dadra and Nagar Haveli and Daman and Diu\",\n",
    "    \"delhi\":\"Delhi\",\n",
    "    \"goa\":\"Goa\",\n",
    "    \"gujarat\":\"Gujarat\",\n",
    "    \"haryana\":\"Haryana\",\n",
    "    \"himachal-pradesh\":\"Himachal Pradesh\",\n",
    "    \"jammu-&-kashmir\":\"Jammu & Kashmir\",\n",
    "    \"jharkhand\":\"Jharkhand\",\n",
    "    \"karnataka\":\"Karnataka\",\n",
    "    \"kerala\":\"Kerala\",\n",
    "    \"ladakh\":\"Ladakh\",\n",
    "    \"lakshadweep\":\"Lakshadweep\",\n",
    "    \"madhya-pradesh\":\"Madhya Pradesh\",\n",
    "    \"maharashtra\":\"Maharashtra\",\n",
    "    \"manipur\":\"Manipur\",\n",
    "    \"meghalaya\":\"Meghalaya\",\n",
    "    \"mizoram\":\"Mizoram\",\n",
    "    \"nagaland\":\"Nagaland\",\n",
    "    \"odisha\":\"Odisha\",\n",
    "    \"puducherry\":\"Puducherry\",\n",
    "    \"punjab\":\"Punjab\",\n",
    "    \"rajasthan\":\"Rajasthan\",\n",
    "    \"sikkim\":\"Sikkim\",\n",
    "    \"tamil-nadu\":\"Tamil Nadu\",\n",
    "    \"telangana\":\"Telangana\",\n",
    "    \"tripura\":\"Tripura\",\n",
    "    \"uttar-pradesh\":\"Uttar Pradesh\",\n",
    "    \"uttarakhand\":\"Uttarakhand\",\n",
    "    \"west-bengal\":\"West Bengal\"\n",
    "}\n",
    "Ag_T_df[\"State\"] = Ag_T_df[\"State\"].map(modification)\n",
    "Ag_U_df[\"State\"] = Ag_U_df[\"State\"].map(modification)\n",
    "mp_T_df[\"State\"] = mp_T_df[\"State\"].map(modification)\n",
    "mp_U_df[\"State\"] = mp_U_df[\"State\"].map(modification)\n",
    "Top_Tran_df[\"State\"] = Top_Tran_df[\"State\"].map(modification)\n",
    "Top_U_df[\"State\"] = Top_U_df[\"State\"].map(modification)\n"
   ]
  },
  {
   "cell_type": "code",
   "execution_count": 106,
   "metadata": {},
   "outputs": [
    {
     "data": {
      "text/plain": [
       "State                 False\n",
       "Year                  False\n",
       "Quarter               False\n",
       "Pincode               False\n",
       "Transaction_Count     False\n",
       "Transaction_Amount    False\n",
       "dtype: bool"
      ]
     },
     "execution_count": 106,
     "metadata": {},
     "output_type": "execute_result"
    }
   ],
   "source": [
    "# Ag_T_df.isnull().any()\n",
    "# Ag_U_df.isnull().any()\n",
    "# mp_T_df.isnull().any()\n",
    "# mp_U_df.isnull().any()\n",
    "Top_Tran_df.isnull().any()\n",
    "# Top_U_df.isnull().any()"
   ]
  },
  {
   "cell_type": "code",
   "execution_count": 105,
   "metadata": {},
   "outputs": [],
   "source": [
    "Top_Tran_df[Top_Tran_df.isnull().any(axis=1)] = Top_Tran_df[Top_Tran_df.isnull().any(axis=1)].fillna('194102')"
   ]
  },
  {
   "cell_type": "code",
   "execution_count": null,
   "metadata": {},
   "outputs": [],
   "source": [
    "# Converting the DataFrames to Csv Files to check if there are any Data Related Issues\n",
    "chunk_size = 1000\n",
    "Ag_T_df.to_csv(\"Ag_T\",index=False,chunksize=chunk_size)\n",
    "Ag_U_df.to_csv(\"Ag_U\",index=False,chunksize=chunk_size)\n",
    "mp_T_df.to_csv(\"mp_T\",index=False,chunksize=chunk_size)\n",
    "mp_U_df.to_csv(\"mp_U\",index=False,chunksize=chunk_size)\n",
    "Top_Tran_df.to_csv(\"Top_Tran\",index=False,chunksize=chunk_size)\n",
    "Top_U_df.to_csv(\"Top_U\",index=False,chunksize=chunk_size)\n"
   ]
  },
  {
   "cell_type": "code",
   "execution_count": 108,
   "metadata": {},
   "outputs": [],
   "source": [
    "import mysql.connector as sql\n",
    "db = sql.connect(host = \"127.0.0.1\",username = \"root\",password = \"test\",database = \"Ph_Streamlit\")\n",
    "cur = db.cursor(buffered=True)"
   ]
  },
  {
   "cell_type": "code",
   "execution_count": 109,
   "metadata": {},
   "outputs": [],
   "source": [
    "# Record Insertion\n",
    "# Aggregated_Transaction:\n",
    "try:\n",
    "    cur.execute(\"create table IF NOT EXISTS AG_T (State varchar(100), Year int, Quarter int, Transaction_Type varchar(100), Transaction_Count int, Transaction_Amount double)\")\n",
    "    for i,j in Ag_T_df.iterrows():\n",
    "        In_Rec_1 = \"INSERT INTO AG_T VALUES (%s,%s,%s,%s,%s,%s)\"\n",
    "        cur.execute(In_Rec_1, tuple(j))\n",
    "    db.commit()\n",
    "except Exception as E:#-->Exception Class used to capture errors\n",
    "    db.rollback()\n",
    "    print(f\"Error: {E} in Aggregated_Transaction_Table\")\n"
   ]
  },
  {
   "cell_type": "code",
   "execution_count": 42,
   "metadata": {},
   "outputs": [],
   "source": [
    "# Aggregated_User:\n",
    "try:\n",
    "    cur.execute(\"create table IF NOT EXISTS AG_U (State varchar(100), Year int, Quarter int, Brand varchar(100), Count int, Percentage double)\")\n",
    "    for a,b in Ag_U_df.iterrows():#-->Used to iterate the rows\n",
    "        In_Rec_2 = \"INSERT INTO AG_U VALUES (%s,%s,%s,%s,%s,%s)\"\n",
    "        cur.execute(In_Rec_2, tuple(b))\n",
    "    db.commit()\n",
    "except Exception as F:\n",
    "    db.rollback()\n",
    "    print(f\"Error: {F} in Aggregated_User_Table\")"
   ]
  },
  {
   "cell_type": "code",
   "execution_count": 44,
   "metadata": {},
   "outputs": [],
   "source": [
    "# Map_Transaction:\n",
    "try:\n",
    "    cur.execute(\"create table IF NOT EXISTS Mp_T (State varchar(100), Year int, Quarter int, District_Name varchar(100), Transaction_Count int, Transaction_Amount double)\")\n",
    "    for c,d in mp_T_df.iterrows():\n",
    "        In_Rec_3 = \"INSERT INTO Mp_T VALUES (%s,%s,%s,%s,%s,%s)\"\n",
    "        cur.execute(In_Rec_3, tuple(d))\n",
    "    db.commit()\n",
    "except Exception as G:\n",
    "    db.rollback()\n",
    "    print(f\"Error: {G} in Map_Transaction_Table\")"
   ]
  },
  {
   "cell_type": "code",
   "execution_count": 46,
   "metadata": {},
   "outputs": [],
   "source": [
    "# Map_Users:\n",
    "try:\n",
    "    cur.execute(\"create table IF NOT EXISTS Mp_U (State varchar(100), Year int, Quarter int, District_Name varchar(100), Registered_Users int, App_opens int)\")\n",
    "    for e,f in mp_U_df.iterrows():\n",
    "        In_Rec_4 = \"INSERT INTO Mp_U VALUES (%s,%s,%s,%s,%s,%s)\"\n",
    "        cur.execute(In_Rec_4, tuple(f))\n",
    "    db.commit()\n",
    "except Exception as H:\n",
    "    db.rollback()\n",
    "    print(f\"Error: {H} in Map_User_Table\")"
   ]
  },
  {
   "cell_type": "code",
   "execution_count": 49,
   "metadata": {},
   "outputs": [],
   "source": [
    "#Top_Transaction:\n",
    "try:\n",
    "    cur.execute(\"create table IF NOT EXISTS Tp_T (State varchar(100), Year int, Quarter int, Pincode int, Transaction_Count int, Transaction_Amount double)\")\n",
    "    for g,h in Top_Tran_df.iterrows():\n",
    "        In_Rec_5 = \"INSERT INTO Tp_T VALUES (%s,%s,%s,%s,%s,%s)\"\n",
    "        cur.execute(In_Rec_5, tuple(h))\n",
    "    db.commit()\n",
    "except Exception as I:\n",
    "    db.rollback()\n",
    "    print(f\"Error: {I} in Top_Transaction_Table\")"
   ]
  },
  {
   "cell_type": "code",
   "execution_count": 52,
   "metadata": {},
   "outputs": [],
   "source": [
    "#Top_User:\n",
    "try:\n",
    "    cur.execute(\"create table IF NOT EXISTS Tp_U (State varchar(100), Year int, Quarter int, Pincode int, Registered_Users int)\")\n",
    "    for k,l in Top_U_df.iterrows():\n",
    "        In_Rec_6 = \"INSERT INTO Tp_U VALUES (%s,%s,%s,%s,%s)\"\n",
    "        cur.execute(In_Rec_6, tuple(l))\n",
    "    db.commit()\n",
    "except Exception as J:\n",
    "    db.rollback()\n",
    "    print(f\"Error: {J} in Top_User_Table\")"
   ]
  },
  {
   "cell_type": "code",
   "execution_count": 10,
   "metadata": {},
   "outputs": [
    {
     "data": {
      "application/vnd.plotly.v1+json": {
       "config": {
        "plotlyServerURL": "https://plot.ly"
       },
       "data": [
        {
         "coloraxis": "coloraxis",
         "featureidkey": "properties.ST_NM",
         "geo": "geo",
         "geojson": "https://gist.githubusercontent.com/jbrobst/56c13bbbf9d97d187fea01ca62ea5112/raw/e388c4cae20aa53cb5090210a42ebb9b765c0a36/india_states.geojson",
         "hovertemplate": "state=%{location}<br>active cases=%{z}<extra></extra>",
         "locations": [
          "Andaman & Nicobar",
          "Andhra Pradesh",
          "Arunachal Pradesh",
          "Assam",
          "Bihar",
          "Chandigarh",
          "Chhattisgarh",
          "Dadra and Nagar Haveli and Daman and Diu",
          "Delhi",
          "Goa",
          "Gujarat",
          "Haryana",
          "Himachal Pradesh",
          "Jammu & Kashmir",
          "Jharkhand",
          "Karnataka",
          "Kerala",
          "Ladakh",
          "Madhya Pradesh",
          "Maharashtra",
          "Manipur",
          "Meghalaya",
          "Mizoram",
          "Nagaland",
          "Odisha",
          "Puducherry",
          "Punjab",
          "Rajasthan",
          "Sikkim",
          "Tamil Nadu",
          "Telangana",
          "Tripura",
          "Uttarakhand",
          "Uttar Pradesh",
          "West Bengal"
         ],
         "name": "",
         "type": "choropleth",
         "z": [
          47,
          18159,
          387,
          6818,
          7549,
          164,
          1260,
          179,
          17407,
          1272,
          11289,
          5495,
          382,
          5488,
          2069,
          30661,
          5376,
          176,
          5562,
          114947,
          635,
          309,
          112,
          525,
          4436,
          774,
          2587,
          6666,
          155,
          46717,
          13327,
          676,
          937,
          15720,
          13679
         ]
        }
       ],
       "layout": {
        "coloraxis": {
         "colorbar": {
          "title": {
           "text": "active cases"
          }
         },
         "colorscale": [
          [
           0,
           "rgb(255,245,240)"
          ],
          [
           0.125,
           "rgb(254,224,210)"
          ],
          [
           0.25,
           "rgb(252,187,161)"
          ],
          [
           0.375,
           "rgb(252,146,114)"
          ],
          [
           0.5,
           "rgb(251,106,74)"
          ],
          [
           0.625,
           "rgb(239,59,44)"
          ],
          [
           0.75,
           "rgb(203,24,29)"
          ],
          [
           0.875,
           "rgb(165,15,21)"
          ],
          [
           1,
           "rgb(103,0,13)"
          ]
         ]
        },
        "geo": {
         "center": {},
         "domain": {
          "x": [
           0,
           1
          ],
          "y": [
           0,
           1
          ]
         },
         "fitbounds": "locations",
         "visible": true
        },
        "legend": {
         "tracegroupgap": 0
        },
        "margin": {
         "t": 60
        },
        "template": {
         "data": {
          "bar": [
           {
            "error_x": {
             "color": "#2a3f5f"
            },
            "error_y": {
             "color": "#2a3f5f"
            },
            "marker": {
             "line": {
              "color": "#E5ECF6",
              "width": 0.5
             },
             "pattern": {
              "fillmode": "overlay",
              "size": 10,
              "solidity": 0.2
             }
            },
            "type": "bar"
           }
          ],
          "barpolar": [
           {
            "marker": {
             "line": {
              "color": "#E5ECF6",
              "width": 0.5
             },
             "pattern": {
              "fillmode": "overlay",
              "size": 10,
              "solidity": 0.2
             }
            },
            "type": "barpolar"
           }
          ],
          "carpet": [
           {
            "aaxis": {
             "endlinecolor": "#2a3f5f",
             "gridcolor": "white",
             "linecolor": "white",
             "minorgridcolor": "white",
             "startlinecolor": "#2a3f5f"
            },
            "baxis": {
             "endlinecolor": "#2a3f5f",
             "gridcolor": "white",
             "linecolor": "white",
             "minorgridcolor": "white",
             "startlinecolor": "#2a3f5f"
            },
            "type": "carpet"
           }
          ],
          "choropleth": [
           {
            "colorbar": {
             "outlinewidth": 0,
             "ticks": ""
            },
            "type": "choropleth"
           }
          ],
          "contour": [
           {
            "colorbar": {
             "outlinewidth": 0,
             "ticks": ""
            },
            "colorscale": [
             [
              0,
              "#0d0887"
             ],
             [
              0.1111111111111111,
              "#46039f"
             ],
             [
              0.2222222222222222,
              "#7201a8"
             ],
             [
              0.3333333333333333,
              "#9c179e"
             ],
             [
              0.4444444444444444,
              "#bd3786"
             ],
             [
              0.5555555555555556,
              "#d8576b"
             ],
             [
              0.6666666666666666,
              "#ed7953"
             ],
             [
              0.7777777777777778,
              "#fb9f3a"
             ],
             [
              0.8888888888888888,
              "#fdca26"
             ],
             [
              1,
              "#f0f921"
             ]
            ],
            "type": "contour"
           }
          ],
          "contourcarpet": [
           {
            "colorbar": {
             "outlinewidth": 0,
             "ticks": ""
            },
            "type": "contourcarpet"
           }
          ],
          "heatmap": [
           {
            "colorbar": {
             "outlinewidth": 0,
             "ticks": ""
            },
            "colorscale": [
             [
              0,
              "#0d0887"
             ],
             [
              0.1111111111111111,
              "#46039f"
             ],
             [
              0.2222222222222222,
              "#7201a8"
             ],
             [
              0.3333333333333333,
              "#9c179e"
             ],
             [
              0.4444444444444444,
              "#bd3786"
             ],
             [
              0.5555555555555556,
              "#d8576b"
             ],
             [
              0.6666666666666666,
              "#ed7953"
             ],
             [
              0.7777777777777778,
              "#fb9f3a"
             ],
             [
              0.8888888888888888,
              "#fdca26"
             ],
             [
              1,
              "#f0f921"
             ]
            ],
            "type": "heatmap"
           }
          ],
          "heatmapgl": [
           {
            "colorbar": {
             "outlinewidth": 0,
             "ticks": ""
            },
            "colorscale": [
             [
              0,
              "#0d0887"
             ],
             [
              0.1111111111111111,
              "#46039f"
             ],
             [
              0.2222222222222222,
              "#7201a8"
             ],
             [
              0.3333333333333333,
              "#9c179e"
             ],
             [
              0.4444444444444444,
              "#bd3786"
             ],
             [
              0.5555555555555556,
              "#d8576b"
             ],
             [
              0.6666666666666666,
              "#ed7953"
             ],
             [
              0.7777777777777778,
              "#fb9f3a"
             ],
             [
              0.8888888888888888,
              "#fdca26"
             ],
             [
              1,
              "#f0f921"
             ]
            ],
            "type": "heatmapgl"
           }
          ],
          "histogram": [
           {
            "marker": {
             "pattern": {
              "fillmode": "overlay",
              "size": 10,
              "solidity": 0.2
             }
            },
            "type": "histogram"
           }
          ],
          "histogram2d": [
           {
            "colorbar": {
             "outlinewidth": 0,
             "ticks": ""
            },
            "colorscale": [
             [
              0,
              "#0d0887"
             ],
             [
              0.1111111111111111,
              "#46039f"
             ],
             [
              0.2222222222222222,
              "#7201a8"
             ],
             [
              0.3333333333333333,
              "#9c179e"
             ],
             [
              0.4444444444444444,
              "#bd3786"
             ],
             [
              0.5555555555555556,
              "#d8576b"
             ],
             [
              0.6666666666666666,
              "#ed7953"
             ],
             [
              0.7777777777777778,
              "#fb9f3a"
             ],
             [
              0.8888888888888888,
              "#fdca26"
             ],
             [
              1,
              "#f0f921"
             ]
            ],
            "type": "histogram2d"
           }
          ],
          "histogram2dcontour": [
           {
            "colorbar": {
             "outlinewidth": 0,
             "ticks": ""
            },
            "colorscale": [
             [
              0,
              "#0d0887"
             ],
             [
              0.1111111111111111,
              "#46039f"
             ],
             [
              0.2222222222222222,
              "#7201a8"
             ],
             [
              0.3333333333333333,
              "#9c179e"
             ],
             [
              0.4444444444444444,
              "#bd3786"
             ],
             [
              0.5555555555555556,
              "#d8576b"
             ],
             [
              0.6666666666666666,
              "#ed7953"
             ],
             [
              0.7777777777777778,
              "#fb9f3a"
             ],
             [
              0.8888888888888888,
              "#fdca26"
             ],
             [
              1,
              "#f0f921"
             ]
            ],
            "type": "histogram2dcontour"
           }
          ],
          "mesh3d": [
           {
            "colorbar": {
             "outlinewidth": 0,
             "ticks": ""
            },
            "type": "mesh3d"
           }
          ],
          "parcoords": [
           {
            "line": {
             "colorbar": {
              "outlinewidth": 0,
              "ticks": ""
             }
            },
            "type": "parcoords"
           }
          ],
          "pie": [
           {
            "automargin": true,
            "type": "pie"
           }
          ],
          "scatter": [
           {
            "fillpattern": {
             "fillmode": "overlay",
             "size": 10,
             "solidity": 0.2
            },
            "type": "scatter"
           }
          ],
          "scatter3d": [
           {
            "line": {
             "colorbar": {
              "outlinewidth": 0,
              "ticks": ""
             }
            },
            "marker": {
             "colorbar": {
              "outlinewidth": 0,
              "ticks": ""
             }
            },
            "type": "scatter3d"
           }
          ],
          "scattercarpet": [
           {
            "marker": {
             "colorbar": {
              "outlinewidth": 0,
              "ticks": ""
             }
            },
            "type": "scattercarpet"
           }
          ],
          "scattergeo": [
           {
            "marker": {
             "colorbar": {
              "outlinewidth": 0,
              "ticks": ""
             }
            },
            "type": "scattergeo"
           }
          ],
          "scattergl": [
           {
            "marker": {
             "colorbar": {
              "outlinewidth": 0,
              "ticks": ""
             }
            },
            "type": "scattergl"
           }
          ],
          "scattermapbox": [
           {
            "marker": {
             "colorbar": {
              "outlinewidth": 0,
              "ticks": ""
             }
            },
            "type": "scattermapbox"
           }
          ],
          "scatterpolar": [
           {
            "marker": {
             "colorbar": {
              "outlinewidth": 0,
              "ticks": ""
             }
            },
            "type": "scatterpolar"
           }
          ],
          "scatterpolargl": [
           {
            "marker": {
             "colorbar": {
              "outlinewidth": 0,
              "ticks": ""
             }
            },
            "type": "scatterpolargl"
           }
          ],
          "scatterternary": [
           {
            "marker": {
             "colorbar": {
              "outlinewidth": 0,
              "ticks": ""
             }
            },
            "type": "scatterternary"
           }
          ],
          "surface": [
           {
            "colorbar": {
             "outlinewidth": 0,
             "ticks": ""
            },
            "colorscale": [
             [
              0,
              "#0d0887"
             ],
             [
              0.1111111111111111,
              "#46039f"
             ],
             [
              0.2222222222222222,
              "#7201a8"
             ],
             [
              0.3333333333333333,
              "#9c179e"
             ],
             [
              0.4444444444444444,
              "#bd3786"
             ],
             [
              0.5555555555555556,
              "#d8576b"
             ],
             [
              0.6666666666666666,
              "#ed7953"
             ],
             [
              0.7777777777777778,
              "#fb9f3a"
             ],
             [
              0.8888888888888888,
              "#fdca26"
             ],
             [
              1,
              "#f0f921"
             ]
            ],
            "type": "surface"
           }
          ],
          "table": [
           {
            "cells": {
             "fill": {
              "color": "#EBF0F8"
             },
             "line": {
              "color": "white"
             }
            },
            "header": {
             "fill": {
              "color": "#C8D4E3"
             },
             "line": {
              "color": "white"
             }
            },
            "type": "table"
           }
          ]
         },
         "layout": {
          "annotationdefaults": {
           "arrowcolor": "#2a3f5f",
           "arrowhead": 0,
           "arrowwidth": 1
          },
          "autotypenumbers": "strict",
          "coloraxis": {
           "colorbar": {
            "outlinewidth": 0,
            "ticks": ""
           }
          },
          "colorscale": {
           "diverging": [
            [
             0,
             "#8e0152"
            ],
            [
             0.1,
             "#c51b7d"
            ],
            [
             0.2,
             "#de77ae"
            ],
            [
             0.3,
             "#f1b6da"
            ],
            [
             0.4,
             "#fde0ef"
            ],
            [
             0.5,
             "#f7f7f7"
            ],
            [
             0.6,
             "#e6f5d0"
            ],
            [
             0.7,
             "#b8e186"
            ],
            [
             0.8,
             "#7fbc41"
            ],
            [
             0.9,
             "#4d9221"
            ],
            [
             1,
             "#276419"
            ]
           ],
           "sequential": [
            [
             0,
             "#0d0887"
            ],
            [
             0.1111111111111111,
             "#46039f"
            ],
            [
             0.2222222222222222,
             "#7201a8"
            ],
            [
             0.3333333333333333,
             "#9c179e"
            ],
            [
             0.4444444444444444,
             "#bd3786"
            ],
            [
             0.5555555555555556,
             "#d8576b"
            ],
            [
             0.6666666666666666,
             "#ed7953"
            ],
            [
             0.7777777777777778,
             "#fb9f3a"
            ],
            [
             0.8888888888888888,
             "#fdca26"
            ],
            [
             1,
             "#f0f921"
            ]
           ],
           "sequentialminus": [
            [
             0,
             "#0d0887"
            ],
            [
             0.1111111111111111,
             "#46039f"
            ],
            [
             0.2222222222222222,
             "#7201a8"
            ],
            [
             0.3333333333333333,
             "#9c179e"
            ],
            [
             0.4444444444444444,
             "#bd3786"
            ],
            [
             0.5555555555555556,
             "#d8576b"
            ],
            [
             0.6666666666666666,
             "#ed7953"
            ],
            [
             0.7777777777777778,
             "#fb9f3a"
            ],
            [
             0.8888888888888888,
             "#fdca26"
            ],
            [
             1,
             "#f0f921"
            ]
           ]
          },
          "colorway": [
           "#636efa",
           "#EF553B",
           "#00cc96",
           "#ab63fa",
           "#FFA15A",
           "#19d3f3",
           "#FF6692",
           "#B6E880",
           "#FF97FF",
           "#FECB52"
          ],
          "font": {
           "color": "#2a3f5f"
          },
          "geo": {
           "bgcolor": "white",
           "lakecolor": "white",
           "landcolor": "#E5ECF6",
           "showlakes": true,
           "showland": true,
           "subunitcolor": "white"
          },
          "hoverlabel": {
           "align": "left"
          },
          "hovermode": "closest",
          "mapbox": {
           "style": "light"
          },
          "paper_bgcolor": "white",
          "plot_bgcolor": "#E5ECF6",
          "polar": {
           "angularaxis": {
            "gridcolor": "white",
            "linecolor": "white",
            "ticks": ""
           },
           "bgcolor": "#E5ECF6",
           "radialaxis": {
            "gridcolor": "white",
            "linecolor": "white",
            "ticks": ""
           }
          },
          "scene": {
           "xaxis": {
            "backgroundcolor": "#E5ECF6",
            "gridcolor": "white",
            "gridwidth": 2,
            "linecolor": "white",
            "showbackground": true,
            "ticks": "",
            "zerolinecolor": "white"
           },
           "yaxis": {
            "backgroundcolor": "#E5ECF6",
            "gridcolor": "white",
            "gridwidth": 2,
            "linecolor": "white",
            "showbackground": true,
            "ticks": "",
            "zerolinecolor": "white"
           },
           "zaxis": {
            "backgroundcolor": "#E5ECF6",
            "gridcolor": "white",
            "gridwidth": 2,
            "linecolor": "white",
            "showbackground": true,
            "ticks": "",
            "zerolinecolor": "white"
           }
          },
          "shapedefaults": {
           "line": {
            "color": "#2a3f5f"
           }
          },
          "ternary": {
           "aaxis": {
            "gridcolor": "white",
            "linecolor": "white",
            "ticks": ""
           },
           "baxis": {
            "gridcolor": "white",
            "linecolor": "white",
            "ticks": ""
           },
           "bgcolor": "#E5ECF6",
           "caxis": {
            "gridcolor": "white",
            "linecolor": "white",
            "ticks": ""
           }
          },
          "title": {
           "x": 0.05
          },
          "xaxis": {
           "automargin": true,
           "gridcolor": "white",
           "linecolor": "white",
           "ticks": "",
           "title": {
            "standoff": 15
           },
           "zerolinecolor": "white",
           "zerolinewidth": 2
          },
          "yaxis": {
           "automargin": true,
           "gridcolor": "white",
           "linecolor": "white",
           "ticks": "",
           "title": {
            "standoff": 15
           },
           "zerolinecolor": "white",
           "zerolinewidth": 2
          }
         }
        }
       }
      }
     },
     "metadata": {},
     "output_type": "display_data"
    }
   ],
   "source": [
    "import pandas as pd\n",
    "import plotly.express as px\n",
    "\n",
    "df = pd.read_csv(\"https://gist.githubusercontent.com/jbrobst/56c13bbbf9d97d187fea01ca62ea5112/raw/e388c4cae20aa53cb5090210a42ebb9b765c0a36/active_cases_2020-07-17_0800.csv\")\n",
    "\n",
    "fig = px.choropleth(\n",
    "    df,\n",
    "    geojson=\"https://gist.githubusercontent.com/jbrobst/56c13bbbf9d97d187fea01ca62ea5112/raw/e388c4cae20aa53cb5090210a42ebb9b765c0a36/india_states.geojson\",\n",
    "    featureidkey='properties.ST_NM',\n",
    "    locations='state',\n",
    "    color='active cases',\n",
    "    color_continuous_scale='Reds'\n",
    ")\n",
    "\n",
    "fig.update_geos(fitbounds=\"locations\", visible=True)\n",
    "\n",
    "fig.show()"
   ]
  },
  {
   "cell_type": "code",
   "execution_count": 12,
   "metadata": {},
   "outputs": [],
   "source": [
    "\n",
    "df.to_excel(\"C:\\\\Users\\\\Balaji\\\\Music\\\\State1_India.xlsx\")"
   ]
  },
  {
   "cell_type": "code",
   "execution_count": 6,
   "metadata": {},
   "outputs": [
    {
     "data": {
      "text/html": [
       "<div>\n",
       "<style scoped>\n",
       "    .dataframe tbody tr th:only-of-type {\n",
       "        vertical-align: middle;\n",
       "    }\n",
       "\n",
       "    .dataframe tbody tr th {\n",
       "        vertical-align: top;\n",
       "    }\n",
       "\n",
       "    .dataframe thead th {\n",
       "        text-align: right;\n",
       "    }\n",
       "</style>\n",
       "<table border=\"1\" class=\"dataframe\">\n",
       "  <thead>\n",
       "    <tr style=\"text-align: right;\">\n",
       "      <th></th>\n",
       "      <th>state</th>\n",
       "      <th>active cases</th>\n",
       "    </tr>\n",
       "  </thead>\n",
       "  <tbody>\n",
       "    <tr>\n",
       "      <th>0</th>\n",
       "      <td>andaman-&amp;-nicobar-islands</td>\n",
       "      <td>47</td>\n",
       "    </tr>\n",
       "    <tr>\n",
       "      <th>1</th>\n",
       "      <td>Andhra Pradesh</td>\n",
       "      <td>18159</td>\n",
       "    </tr>\n",
       "    <tr>\n",
       "      <th>2</th>\n",
       "      <td>Arunachal Pradesh</td>\n",
       "      <td>387</td>\n",
       "    </tr>\n",
       "    <tr>\n",
       "      <th>3</th>\n",
       "      <td>Assam</td>\n",
       "      <td>6818</td>\n",
       "    </tr>\n",
       "    <tr>\n",
       "      <th>4</th>\n",
       "      <td>Bihar</td>\n",
       "      <td>7549</td>\n",
       "    </tr>\n",
       "    <tr>\n",
       "      <th>5</th>\n",
       "      <td>Chandigarh</td>\n",
       "      <td>164</td>\n",
       "    </tr>\n",
       "    <tr>\n",
       "      <th>6</th>\n",
       "      <td>Chhattisgarh</td>\n",
       "      <td>1260</td>\n",
       "    </tr>\n",
       "    <tr>\n",
       "      <th>7</th>\n",
       "      <td>Dadra and Nagar Haveli and Daman and Diu</td>\n",
       "      <td>179</td>\n",
       "    </tr>\n",
       "    <tr>\n",
       "      <th>8</th>\n",
       "      <td>Delhi</td>\n",
       "      <td>17407</td>\n",
       "    </tr>\n",
       "    <tr>\n",
       "      <th>9</th>\n",
       "      <td>Goa</td>\n",
       "      <td>1272</td>\n",
       "    </tr>\n",
       "    <tr>\n",
       "      <th>10</th>\n",
       "      <td>Gujarat</td>\n",
       "      <td>11289</td>\n",
       "    </tr>\n",
       "    <tr>\n",
       "      <th>11</th>\n",
       "      <td>Haryana</td>\n",
       "      <td>5495</td>\n",
       "    </tr>\n",
       "    <tr>\n",
       "      <th>12</th>\n",
       "      <td>Himachal Pradesh</td>\n",
       "      <td>382</td>\n",
       "    </tr>\n",
       "    <tr>\n",
       "      <th>13</th>\n",
       "      <td>Jammu &amp; Kashmir</td>\n",
       "      <td>5488</td>\n",
       "    </tr>\n",
       "    <tr>\n",
       "      <th>14</th>\n",
       "      <td>Jharkhand</td>\n",
       "      <td>2069</td>\n",
       "    </tr>\n",
       "    <tr>\n",
       "      <th>15</th>\n",
       "      <td>Karnataka</td>\n",
       "      <td>30661</td>\n",
       "    </tr>\n",
       "    <tr>\n",
       "      <th>16</th>\n",
       "      <td>Kerala</td>\n",
       "      <td>5376</td>\n",
       "    </tr>\n",
       "    <tr>\n",
       "      <th>17</th>\n",
       "      <td>Ladakh</td>\n",
       "      <td>176</td>\n",
       "    </tr>\n",
       "    <tr>\n",
       "      <th>18</th>\n",
       "      <td>Madhya Pradesh</td>\n",
       "      <td>5562</td>\n",
       "    </tr>\n",
       "    <tr>\n",
       "      <th>19</th>\n",
       "      <td>Maharashtra</td>\n",
       "      <td>114947</td>\n",
       "    </tr>\n",
       "    <tr>\n",
       "      <th>20</th>\n",
       "      <td>Manipur</td>\n",
       "      <td>635</td>\n",
       "    </tr>\n",
       "    <tr>\n",
       "      <th>21</th>\n",
       "      <td>Meghalaya</td>\n",
       "      <td>309</td>\n",
       "    </tr>\n",
       "    <tr>\n",
       "      <th>22</th>\n",
       "      <td>Mizoram</td>\n",
       "      <td>112</td>\n",
       "    </tr>\n",
       "    <tr>\n",
       "      <th>23</th>\n",
       "      <td>Nagaland</td>\n",
       "      <td>525</td>\n",
       "    </tr>\n",
       "    <tr>\n",
       "      <th>24</th>\n",
       "      <td>Odisha</td>\n",
       "      <td>4436</td>\n",
       "    </tr>\n",
       "    <tr>\n",
       "      <th>25</th>\n",
       "      <td>Puducherry</td>\n",
       "      <td>774</td>\n",
       "    </tr>\n",
       "    <tr>\n",
       "      <th>26</th>\n",
       "      <td>Punjab</td>\n",
       "      <td>2587</td>\n",
       "    </tr>\n",
       "    <tr>\n",
       "      <th>27</th>\n",
       "      <td>Rajasthan</td>\n",
       "      <td>6666</td>\n",
       "    </tr>\n",
       "    <tr>\n",
       "      <th>28</th>\n",
       "      <td>Sikkim</td>\n",
       "      <td>155</td>\n",
       "    </tr>\n",
       "    <tr>\n",
       "      <th>29</th>\n",
       "      <td>Tamil Nadu</td>\n",
       "      <td>46717</td>\n",
       "    </tr>\n",
       "    <tr>\n",
       "      <th>30</th>\n",
       "      <td>Telangana</td>\n",
       "      <td>13327</td>\n",
       "    </tr>\n",
       "    <tr>\n",
       "      <th>31</th>\n",
       "      <td>Tripura</td>\n",
       "      <td>676</td>\n",
       "    </tr>\n",
       "    <tr>\n",
       "      <th>32</th>\n",
       "      <td>Uttarakhand</td>\n",
       "      <td>937</td>\n",
       "    </tr>\n",
       "    <tr>\n",
       "      <th>33</th>\n",
       "      <td>Uttar Pradesh</td>\n",
       "      <td>15720</td>\n",
       "    </tr>\n",
       "    <tr>\n",
       "      <th>34</th>\n",
       "      <td>West Bengal</td>\n",
       "      <td>13679</td>\n",
       "    </tr>\n",
       "  </tbody>\n",
       "</table>\n",
       "</div>"
      ],
      "text/plain": [
       "                                       state  active cases\n",
       "0                  andaman-&-nicobar-islands            47\n",
       "1                             Andhra Pradesh         18159\n",
       "2                          Arunachal Pradesh           387\n",
       "3                                      Assam          6818\n",
       "4                                      Bihar          7549\n",
       "5                                 Chandigarh           164\n",
       "6                               Chhattisgarh          1260\n",
       "7   Dadra and Nagar Haveli and Daman and Diu           179\n",
       "8                                      Delhi         17407\n",
       "9                                        Goa          1272\n",
       "10                                   Gujarat         11289\n",
       "11                                   Haryana          5495\n",
       "12                          Himachal Pradesh           382\n",
       "13                           Jammu & Kashmir          5488\n",
       "14                                 Jharkhand          2069\n",
       "15                                 Karnataka         30661\n",
       "16                                    Kerala          5376\n",
       "17                                    Ladakh           176\n",
       "18                            Madhya Pradesh          5562\n",
       "19                               Maharashtra        114947\n",
       "20                                   Manipur           635\n",
       "21                                 Meghalaya           309\n",
       "22                                   Mizoram           112\n",
       "23                                  Nagaland           525\n",
       "24                                    Odisha          4436\n",
       "25                                Puducherry           774\n",
       "26                                    Punjab          2587\n",
       "27                                 Rajasthan          6666\n",
       "28                                    Sikkim           155\n",
       "29                                Tamil Nadu         46717\n",
       "30                                 Telangana         13327\n",
       "31                                   Tripura           676\n",
       "32                               Uttarakhand           937\n",
       "33                             Uttar Pradesh         15720\n",
       "34                               West Bengal         13679"
      ]
     },
     "execution_count": 6,
     "metadata": {},
     "output_type": "execute_result"
    }
   ],
   "source": [
    "Ag_T_df['state'] = Ag_T_df['state'].replace({'andaman-&-nicobar-islands': 'Andaman & Nicobar'})"
   ]
  },
  {
   "cell_type": "code",
   "execution_count": 9,
   "metadata": {},
   "outputs": [],
   "source": [
    "df.to_excel(\"C:\\\\Users\\\\Balaji\\\\Music\\\\State_Data.xlsx\")"
   ]
  }
 ],
 "metadata": {
  "kernelspec": {
   "display_name": "Python 3",
   "language": "python",
   "name": "python3"
  },
  "language_info": {
   "codemirror_mode": {
    "name": "ipython",
    "version": 3
   },
   "file_extension": ".py",
   "mimetype": "text/x-python",
   "name": "python",
   "nbconvert_exporter": "python",
   "pygments_lexer": "ipython3",
   "version": "3.12.0"
  }
 },
 "nbformat": 4,
 "nbformat_minor": 2
}
